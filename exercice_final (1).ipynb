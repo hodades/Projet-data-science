{
 "cells": [
  {
   "cell_type": "markdown",
   "id": "29c4457e-c14c-48c1-aaea-80e152a00080",
   "metadata": {},
   "source": [
    "#### Pour séance:\n",
    "1. Télécharger et ouvrir les tables en pandas\n",
    "2. Les décrire rapidement\n",
    "3. Faire des jointures entre les tables\n"
   ]
  },
  {
   "cell_type": "markdown",
   "id": "eec8cff1-9fee-4d03-8130-3514d3e7d8aa",
   "metadata": {},
   "source": [
    "L'Exercice dont vous êtes le héros:\n",
    "\n",
    "En prennant les bases des accidents de la route 2022, inventez un énnoncé pour étudier ce qui vous intéresse concernant les accidents de la route.\n",
    "Un exemple d'énnoncé est fourni ci-dessous, vous pouvez le sélectionner tel quel, ou trouver quelque chose de plus original, sur un sujet qui vous intéresse plus.\n",
    "\n",
    "-------"
   ]
  },
  {
   "cell_type": "markdown",
   "id": "c64cfd3c-34ec-49ff-80c7-dba20b7a4322",
   "metadata": {},
   "source": [
    "Vous êtes employé en tant que data scientist freelance par une association de cyclistes française, qui souhaite avoir de l'information statistique sur l'accidentologie des utilisateurs de cycles. Leur objectif est de pouvoir arriver avec de l'information solide devant les décideurs publics, et potentiellement avoir des propositions pour améliorer la sécurité des personnes se déplaçant à vélo.\n",
    "\n",
    "Les commentaires contextuels qui interprètent et nuancent les chiffres que vous donnez seront les bienvenus !\n",
    "\n",
    "\n",
    "Pour répondre à besoins vous allez:\n",
    "* Prendre le dataset des accidents de la route pour 2022.\n",
    "* Décrire rapidement chaque table\n",
    "* Vous donnerez ensuite les informations globales suivantes:\n",
    "    * Nombre de morts et de blessés sur l'année 2022\n",
    "        * Pour tout le monde\n",
    "        * Pour les cyclistes \n",
    "    * Nombre de morts et de blessés par région sur les 5 régions aillant le plus de morts:\n",
    "      * Pour tout le monde\n",
    "      * Pour les cyclistes\n",
    "    * Au cours du temps:\n",
    "        * Faire un graphique qui donne l'évolution du nombre de morts chaque jours au cours du temps.\n",
    "        * Faire le même graphique donnant le nombre de morts  \n",
    "    * Nombre de morts par ville sur les 5 villes avec le ratio **nombre de morts par habitants** (nb: Donner une table en plus avec le nombre d'habitants par ville) le plus élevé.\n",
    "      * Pour tout le monde\n",
    "      * Pour les cyclistes\n",
    "    * Essayer de décrire pourquoi un accident aura pour conséquence la mort, un ou plusieurs blessés, etc.\n",
    "        * Avez vous des suggestions étant donné cette analyse pour améliorer la sécurité ?\n",
    "    \n",
    "----- Idées ----\n",
    "\n",
    "\n",
    "Faire les jointures nécessaires entre chaque tables.\n",
    "Donner le nombre de morts en fonction du moyen de locomation employé.\n",
    "Donner le nombre de bléssés et de morts des cyclistes.\n",
    "\n",
    "\n",
    "Est-ce que ce ratio est différent par ville ?\n",
    "\n",
    "Que peut-on dire sur les accidents des cyclistes ? \n",
    "\n",
    "\n",
    "Est-ce que les personnes agéées ont plus d'accident que les autres (faire la courbe) ?\n",
    "\n",
    "Combien y-a-t-il d'accidents frontaux entre deux véhicules.\n",
    "\n"
   ]
  },
  {
   "cell_type": "code",
   "execution_count": null,
   "id": "31a01c1d-3d94-4077-b4ef-907b900f4570",
   "metadata": {},
   "outputs": [],
   "source": []
  },
  {
   "cell_type": "code",
   "execution_count": null,
   "id": "c7bb66b1-5f89-4675-85cf-b6c5ada91e75",
   "metadata": {},
   "outputs": [],
   "source": []
  },
  {
   "cell_type": "code",
   "execution_count": null,
   "id": "8ede5bf1-4a02-40a2-84d0-4f0b0c85d075",
   "metadata": {},
   "outputs": [],
   "source": []
  },
  {
   "cell_type": "code",
   "execution_count": null,
   "id": "ebc4fd11-6a68-450f-ad37-255834d3fb02",
   "metadata": {},
   "outputs": [],
   "source": []
  },
  {
   "cell_type": "code",
   "execution_count": null,
   "id": "b9be4edc-72ae-4a84-888f-c895399fd672",
   "metadata": {},
   "outputs": [],
   "source": []
  },
  {
   "cell_type": "markdown",
   "id": "de17b646-240e-40f7-a123-a8ee4888f9d3",
   "metadata": {
    "editable": true,
    "slideshow": {
     "slide_type": ""
    },
    "tags": []
   },
   "source": [
    "Notation:\n",
    "1. Décrire les tables, les merger, et faire des graphiques simples et statistiques simples (nombre de morts totaux sur l'année, nombre de cyclistes morts, etc) sur 8 points\n",
    "2. Inventer un scénario différent de celui par défault + 3 points (+1 si simple modification, +2 si bon contexte et bon scénario, +3 si votre analyse et votre sénario sont raccord et produisent quelque chose d'intéressant).\n",
    "3. Bien expliquer et interpréter les chiffres, tableaux, et graphiques que vous fournissez des annalyses pertinantes 5 points.\n",
    "4. Originalité de l'analyse, intelligence des choix de représentation, 3 points.\n",
    "5. Qualité du code, démonstration de la maitrise de pandas (propreté du code, utilisation de méthodes adaptées, voir non vues en cours) 3 points.\n",
    "\n",
    "-----\n",
    "Devoir maison: 0,5 si rendu, 1 point si pertinent, 2 point si réussi.\n",
    "Note à la tête : +1 max (participation, motivation, etc)."
   ]
  },
  {
   "cell_type": "code",
   "execution_count": null,
   "id": "51c05f87-6df7-4edf-b532-78a49b02ea53",
   "metadata": {},
   "outputs": [],
   "source": []
  }
 ],
 "metadata": {
  "kernelspec": {
   "display_name": "Python 3 (ipykernel)",
   "language": "python",
   "name": "python3"
  },
  "language_info": {
   "codemirror_mode": {
    "name": "ipython",
    "version": 3
   },
   "file_extension": ".py",
   "mimetype": "text/x-python",
   "name": "python",
   "nbconvert_exporter": "python",
   "pygments_lexer": "ipython3",
   "version": "3.11.4"
  }
 },
 "nbformat": 4,
 "nbformat_minor": 5
}
